{
 "cells": [
  {
   "attachments": {},
   "cell_type": "markdown",
   "id": "5da479da",
   "metadata": {},
   "source": [
    "Task:\n",
    "Given an integer,n, perform the following conditional actions:\n",
    "\n",
    "If  is odd, print Weird\n",
    "If  is even and in the inclusive range of 2 to 5, print Not Weird\n",
    "If  is even and in the inclusive range of 6 to 20, print Weird\n",
    "If  is even and greater than 20, print Not Weird\n",
    "Input Format\n",
    "\n",
    "A single line containing a positive integer,n .\n",
    "\n",
    "\n",
    "Output Format\n",
    "\n",
    "Print Weird if the number is weird. Otherwise, print Not Weird.\n",
    "\n",
    "Sample Input 0\n",
    "\n",
    "3\n",
    "Sample Output 0\n",
    "\n",
    "Weird"
   ]
  },
  {
   "cell_type": "code",
   "execution_count": 1,
   "id": "504ef7ad",
   "metadata": {},
   "outputs": [
    {
     "name": "stdout",
     "output_type": "stream",
     "text": [
      "7\n",
      "Weird\n"
     ]
    }
   ],
   "source": [
    "import math\n",
    "import os\n",
    "import random\n",
    "import re\n",
    "import sys\n",
    "\n",
    "\n",
    "if __name__ == '__main__':\n",
    "    n = int(input().strip())\n",
    "    \n",
    "a=n%2\n",
    "if (a!=0):\n",
    "    print(\"Weird\")\n",
    "elif (a==0 and 2<=n<=5):\n",
    "    print(\"Not Weird\")\n",
    "elif (a==0 and 6<=n<=20):\n",
    "    print(\"Weird\")\n",
    "elif (a==0 and 20<n):\n",
    "    print(\"Not Weird\")\n"
   ]
  },
  {
   "cell_type": "code",
   "execution_count": null,
   "id": "e5f2faf0",
   "metadata": {},
   "outputs": [],
   "source": []
  }
 ],
 "metadata": {
  "kernelspec": {
   "display_name": "Python 3 (ipykernel)",
   "language": "python",
   "name": "python3"
  },
  "language_info": {
   "codemirror_mode": {
    "name": "ipython",
    "version": 3
   },
   "file_extension": ".py",
   "mimetype": "text/x-python",
   "name": "python",
   "nbconvert_exporter": "python",
   "pygments_lexer": "ipython3",
   "version": "3.9.7"
  }
 },
 "nbformat": 4,
 "nbformat_minor": 5
}
