{
 "cells": [
  {
   "cell_type": "code",
   "execution_count": 3,
   "id": "60481a49",
   "metadata": {},
   "outputs": [
    {
     "name": "stdout",
     "output_type": "stream",
     "text": [
      "\"Hello Python\"\n"
     ]
    }
   ],
   "source": [
    "# 1. Write a Python program to print \"Hello Python\"?\n",
    "print('\"Hello Python\"')"
   ]
  },
  {
   "cell_type": "code",
   "execution_count": 7,
   "id": "3bd7ff71",
   "metadata": {},
   "outputs": [
    {
     "name": "stdout",
     "output_type": "stream",
     "text": [
      "Enter any number 1 = 4\n",
      "Enter any number 2 = 9\n",
      "Sum of Number 1 and Number 2 is = 13.0\n",
      "division of Number 1 and Number 2 is = 0.44\n"
     ]
    }
   ],
   "source": [
    "#2.Write a Python program to do arithmetical operations addition and division.?\n",
    "a=float(input(\"Enter any number 1 = \"))\n",
    "b=float(input(\"Enter any number 2 = \"))\n",
    "print(\"Sum of Number 1 and Number 2 is =\", a+b)\n",
    "if b==0:\n",
    "    print(\"Dividing by 0 is not allowed\")\n",
    "else:\n",
    "    print(\"division of Number 1 and Number 2 is =\", round(a/b,2))"
   ]
  },
  {
   "cell_type": "code",
   "execution_count": 10,
   "id": "fce8c93c",
   "metadata": {},
   "outputs": [
    {
     "name": "stdout",
     "output_type": "stream",
     "text": [
      "Enter Base length = 3\n",
      "Enter Height length = 6\n",
      "Area of Triangle is =  9.0\n"
     ]
    }
   ],
   "source": [
    "#3.Write a Python program to find the area of a triangle?\n",
    "base=float(input(\"Enter base length = \"))\n",
    "height=float(input(\"Enter height length = \"))\n",
    "area=0.5*base*height\n",
    "print(\"Area of Triangle is = \", area)"
   ]
  },
  {
   "cell_type": "code",
   "execution_count": 17,
   "id": "f21e2012",
   "metadata": {},
   "outputs": [
    {
     "name": "stdout",
     "output_type": "stream",
     "text": [
      "var1 = variable2\n",
      "var2 = variable1\n",
      "x = 10\n",
      "y = 5\n"
     ]
    }
   ],
   "source": [
    "#4. Write a Python program to swap two variables?\n",
    "\n",
    "#using temp variable\n",
    "#var1=input(\"enter variable 1\")\n",
    "#var2=input(\"enter variable 2\")\n",
    "var1=\"variable1\"\n",
    "var2=\"variable2\"\n",
    "temp = var1\n",
    "var1 = var2\n",
    "var2 = temp\n",
    "print(\"var1 =\", var1)\n",
    "print(\"var2 =\", var2)\n",
    "\n",
    "#without using temp\n",
    "x = 5\n",
    "y = 10\n",
    "x, y = y, x\n",
    "print(\"x =\", x)\n",
    "print(\"y =\", y)"
   ]
  },
  {
   "cell_type": "code",
   "execution_count": 21,
   "id": "6988645c",
   "metadata": {},
   "outputs": [
    {
     "name": "stdout",
     "output_type": "stream",
     "text": [
      "95\n"
     ]
    }
   ],
   "source": [
    "#5.Write a Python program to generate a random number?\n",
    "import random\n",
    "print(random.randint(0,100))"
   ]
  },
  {
   "cell_type": "code",
   "execution_count": null,
   "id": "fc82314e",
   "metadata": {},
   "outputs": [],
   "source": []
  }
 ],
 "metadata": {
  "kernelspec": {
   "display_name": "Python 3",
   "language": "python",
   "name": "python3"
  },
  "language_info": {
   "codemirror_mode": {
    "name": "ipython",
    "version": 3
   },
   "file_extension": ".py",
   "mimetype": "text/x-python",
   "name": "python",
   "nbconvert_exporter": "python",
   "pygments_lexer": "ipython3",
   "version": "3.6.13"
  }
 },
 "nbformat": 4,
 "nbformat_minor": 5
}
