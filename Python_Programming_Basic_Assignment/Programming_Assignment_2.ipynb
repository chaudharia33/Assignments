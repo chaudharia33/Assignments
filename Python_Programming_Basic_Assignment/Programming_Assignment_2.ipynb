{
 "cells": [
  {
   "cell_type": "code",
   "execution_count": 6,
   "id": "dc99f219",
   "metadata": {},
   "outputs": [
    {
     "name": "stdout",
     "output_type": "stream",
     "text": [
      "Enter distance in KM =2\n",
      "Your diatacnce in Miles = 1.243\n"
     ]
    }
   ],
   "source": [
    "#1. Write a Python program to convert kilometers to miles?\n",
    "km=float(input(\"Enter distance in KM =\"))\n",
    "factor=0.621371\n",
    "miles=round((km*factor),3)\n",
    "print(\"Your diatacnce in Miles =\", miles)"
   ]
  },
  {
   "cell_type": "code",
   "execution_count": 7,
   "id": "17bb6357",
   "metadata": {},
   "outputs": [
    {
     "name": "stdout",
     "output_type": "stream",
     "text": [
      "Enter temperature in Celsius =3\n",
      "Temperatur in Fahrenheit =  37.4\n"
     ]
    }
   ],
   "source": [
    "#2. Write a Python program to convert Celsius to Fahrenheit?\n",
    "cl=float(input(\"Enter temperature in Celsius =\"))\n",
    "far=round((cl*1.8+32),3)\n",
    "print(\"Temperatur in Fahrenheit = \", far)"
   ]
  },
  {
   "cell_type": "code",
   "execution_count": 2,
   "id": "dab7704a",
   "metadata": {},
   "outputs": [
    {
     "name": "stdout",
     "output_type": "stream",
     "text": [
      "Enter year in YYYY: 2022\n",
      "Enter month in MM: 02\n",
      "   February 2022\n",
      "Mo Tu We Th Fr Sa Su\n",
      "    1  2  3  4  5  6\n",
      " 7  8  9 10 11 12 13\n",
      "14 15 16 17 18 19 20\n",
      "21 22 23 24 25 26 27\n",
      "28\n",
      "\n"
     ]
    }
   ],
   "source": [
    "#3. Write a Python program to display calendar?\n",
    "import calendar\n",
    "yyyy = int(input(\"Enter year in YYYY: \"))\n",
    "mm = int(input(\"Enter month in MM: \"))\n",
    "print(calendar.month(yyyy, mm))"
   ]
  },
  {
   "cell_type": "code",
   "execution_count": 5,
   "id": "414399dd",
   "metadata": {},
   "outputs": [
    {
     "name": "stdout",
     "output_type": "stream",
     "text": [
      "Make sure your quadratic equation is in Ax**2 + Bx + C = 0 form\n",
      "Enter A value =1\n",
      "Enter B value =5\n",
      "Enter C value =6\n",
      "The solution are -3.0 and -2.0\n"
     ]
    }
   ],
   "source": [
    "#4. Write a Python program to solve quadratic equation?\n",
    "import math\n",
    "\n",
    "print(\"Make sure your quadratic equation is in Ax**2 + Bx + C = 0 form\")\n",
    "\n",
    "a = float(input(\"Enter A value =\"))\n",
    "b = float(input(\"Enter B value =\"))\n",
    "c = float(input(\"Enter C value =\"))\n",
    "\n",
    "d = (b**2) - (4*a*c)\n",
    "\n",
    "sol1 = (-b-math.sqrt(d))/(2*a)\n",
    "sol2 = (-b+math.sqrt(d))/(2*a)\n",
    "\n",
    "print('The solution are {0} and {1}'.format(sol1,sol2))"
   ]
  },
  {
   "cell_type": "code",
   "execution_count": 6,
   "id": "b148bd47",
   "metadata": {},
   "outputs": [
    {
     "name": "stdout",
     "output_type": "stream",
     "text": [
      "after swap x = 6\n",
      "after swap y = 5\n"
     ]
    }
   ],
   "source": [
    "#5. Write a Python program to swap two variables without temp variable?\n",
    "x=5\n",
    "y=6\n",
    "x,y=y,x\n",
    "print(\"after swap x =\",x)\n",
    "print(\"after swap y =\",y)"
   ]
  }
 ],
 "metadata": {
  "kernelspec": {
   "display_name": "Python 3",
   "language": "python",
   "name": "python3"
  },
  "language_info": {
   "codemirror_mode": {
    "name": "ipython",
    "version": 3
   },
   "file_extension": ".py",
   "mimetype": "text/x-python",
   "name": "python",
   "nbconvert_exporter": "python",
   "pygments_lexer": "ipython3",
   "version": "3.6.15"
  }
 },
 "nbformat": 4,
 "nbformat_minor": 5
}
