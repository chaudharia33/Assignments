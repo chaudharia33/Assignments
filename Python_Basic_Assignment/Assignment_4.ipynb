{
 "cells": [
  {
   "cell_type": "markdown",
   "id": "430a4ffc",
   "metadata": {},
   "source": [
    "1. What exactly is []?\n",
    "The empty list value, which is a list value that contains no items. This is similar to how '' is the empty string value."
   ]
  },
  {
   "cell_type": "code",
   "execution_count": 1,
   "id": "9ebf5d37",
   "metadata": {},
   "outputs": [
    {
     "data": {
      "text/plain": [
       "[2, 4, 'hello', 8, 10]"
      ]
     },
     "execution_count": 1,
     "metadata": {},
     "output_type": "execute_result"
    }
   ],
   "source": [
    "'''\n",
    "2. How would you assign the value 'hello' as the third value in a list stored in a variable named spam? \n",
    "(Assume spam contains [2, 4, 6, 8, 10].)\n",
    "\n",
    "Answer:\n",
    "spam[2] = 'hello' (Notice that the third value in a list is at index 2 because the first index is 0.)\n",
    "'''\n",
    "spam=[2, 4, 6, 8, 10]\n",
    "spam[2] = 'hello'\n",
    "spam"
   ]
  },
  {
   "cell_type": "code",
   "execution_count": 4,
   "id": "cf097882",
   "metadata": {},
   "outputs": [
    {
     "data": {
      "text/plain": [
       "'d'"
      ]
     },
     "execution_count": 4,
     "metadata": {},
     "output_type": "execute_result"
    }
   ],
   "source": [
    "'''\n",
    "For the following three questions, let's say spam contains the list ['a', 'b', 'c', 'd'].\n",
    "3. What does spam[int(int('3' * 2) // 11)] evaluate to?\n",
    "\n",
    "Answer:\n",
    "'d' (Note that '3' * 2 is the string '33', which is passed to int() before being divided by 11. This eventually evaluates to 3. Expressions can be used wherever values are used.)\n",
    "'''\n",
    "spam=['a', 'b', 'c', 'd']\n",
    "spam[int(int('3' * 2) // 11)]"
   ]
  },
  {
   "cell_type": "code",
   "execution_count": 5,
   "id": "184e97a4",
   "metadata": {},
   "outputs": [
    {
     "data": {
      "text/plain": [
       "'d'"
      ]
     },
     "execution_count": 5,
     "metadata": {},
     "output_type": "execute_result"
    }
   ],
   "source": [
    "'''\n",
    "4. What does spam[-1] evaluate to?\n",
    "\n",
    "Answer:\n",
    "'d' (Negative indexes count from the end.)\n",
    "'''\n",
    "spam[-1]"
   ]
  },
  {
   "cell_type": "code",
   "execution_count": 6,
   "id": "60ff1df5",
   "metadata": {},
   "outputs": [
    {
     "data": {
      "text/plain": [
       "['a', 'b']"
      ]
     },
     "execution_count": 6,
     "metadata": {},
     "output_type": "execute_result"
    }
   ],
   "source": [
    "'''\n",
    "5. What does spam[:2] evaluate to?\n",
    "['a', 'b']\n",
    "'''\n",
    "spam[:2]"
   ]
  },
  {
   "cell_type": "code",
   "execution_count": 10,
   "id": "66923d7d",
   "metadata": {},
   "outputs": [
    {
     "data": {
      "text/plain": [
       "1"
      ]
     },
     "execution_count": 10,
     "metadata": {},
     "output_type": "execute_result"
    }
   ],
   "source": [
    "'''For the following three questions, let's say bacon contains the list [3.14, 'cat', 11, 'cat', True].\n",
    "6. What is the value of bacon.index('cat')?\n",
    "\n",
    "Answer:\n",
    "index for cat is 1\n",
    "'''\n",
    "bacon=[3.14, 'cat', 11, 'cat', True]\n",
    "bacon.index('cat')"
   ]
  },
  {
   "cell_type": "code",
   "execution_count": 11,
   "id": "22fe0345",
   "metadata": {},
   "outputs": [
    {
     "data": {
      "text/plain": [
       "[3.14, 'cat', 11, 'cat', True, 99]"
      ]
     },
     "execution_count": 11,
     "metadata": {},
     "output_type": "execute_result"
    }
   ],
   "source": [
    "'''7. How does bacon.append(99) change the look of the list value in bacon?\n",
    "\n",
    "Answer:\n",
    "    it will add 99 in the end of the list'''\n",
    "bacon.append(99)\n",
    "bacon"
   ]
  },
  {
   "cell_type": "code",
   "execution_count": 12,
   "id": "481a9157",
   "metadata": {},
   "outputs": [
    {
     "data": {
      "text/plain": [
       "[3.14, 11, 'cat', True, 99]"
      ]
     },
     "execution_count": 12,
     "metadata": {},
     "output_type": "execute_result"
    }
   ],
   "source": [
    "'''8. How does bacon.remove('cat') change the look of the list in bacon?\n",
    "Answer:\n",
    "it will remove one 'cat' from list\n",
    "'''\n",
    "bacon.remove('cat')\n",
    "bacon"
   ]
  },
  {
   "cell_type": "markdown",
   "id": "a85d84fd",
   "metadata": {},
   "source": [
    "9. What are the operators for list concatenation and list replication?\n",
    "\n",
    "Answer:\n",
    "The operator for list concatenation is +, while the operator for replication is *. (This is the same as for strings.)"
   ]
  },
  {
   "cell_type": "markdown",
   "id": "f4109d25",
   "metadata": {},
   "source": [
    "10. What is the difference between the append() and insert() list methods?\n",
    "\n",
    "Answer:\n",
    "While append() will add values only to the end of a list, insert() can add them anywhere in the list."
   ]
  },
  {
   "cell_type": "markdown",
   "id": "7b74dcaa",
   "metadata": {},
   "source": [
    "11. What are two ways to remove values from a list?\n",
    "\n",
    "Answer:\n",
    "The del statement and the remove() list method are two ways to remove values from a list."
   ]
  },
  {
   "cell_type": "markdown",
   "id": "a61e8c0f",
   "metadata": {},
   "source": [
    "12. Name a few ways that list values are similar to string values.\n",
    "\n",
    "Answer:\n",
    "Both lists and strings can be passed to len(), have indexes and slices, be used in for loops, be concatenated or replicated, and be used with the in and not in operators."
   ]
  },
  {
   "cell_type": "markdown",
   "id": "fbf2b396",
   "metadata": {},
   "source": [
    "13. What is the difference between lists and tuples?\n",
    "\n",
    "Answer:\n",
    "Lists are mutable; they can have values added, removed, or changed. Tuples are immutable; they cannot be changed at all. Also, tuples are written using parentheses, ( and ), while lists use the square brackets, [ and ]."
   ]
  },
  {
   "cell_type": "markdown",
   "id": "ef8e939a",
   "metadata": {},
   "source": [
    "14. How do you type the tuple value that has just the integer value 42 in it?\n",
    "\n",
    "Answer:\n",
    "(42,) (The trailing comma is mandatory.)"
   ]
  },
  {
   "cell_type": "markdown",
   "id": "ef8cb8e8",
   "metadata": {},
   "source": [
    "15.How can you get the tuple form of a list value? How can you get the list form of a tuple value?\n",
    "\n",
    "Answer:\n",
    "The tuple() and list() functions, respectively"
   ]
  },
  {
   "cell_type": "markdown",
   "id": "3e946aac",
   "metadata": {},
   "source": [
    "16. Variables that \"contain\" list values don't actually contain lists directly. What do they contain instead?\n",
    "\n",
    "Answer:\n",
    "They contain references to list values."
   ]
  },
  {
   "cell_type": "markdown",
   "id": "793d5b87",
   "metadata": {},
   "source": [
    "17. What is the difference between copy.copy() and copy.deepcopy()?\n",
    "\n",
    "Answer:\n",
    "The copy.copy() function will do a shallow copy of a list, while the copy.deepcopy() function will do a deep copy of a list. That is, only copy.deepcopy() will duplicate any lists inside the list."
   ]
  }
 ],
 "metadata": {
  "kernelspec": {
   "display_name": "Python 3 (ipykernel)",
   "language": "python",
   "name": "python3"
  },
  "language_info": {
   "codemirror_mode": {
    "name": "ipython",
    "version": 3
   },
   "file_extension": ".py",
   "mimetype": "text/x-python",
   "name": "python",
   "nbconvert_exporter": "python",
   "pygments_lexer": "ipython3",
   "version": "3.9.7"
  }
 },
 "nbformat": 4,
 "nbformat_minor": 5
}
