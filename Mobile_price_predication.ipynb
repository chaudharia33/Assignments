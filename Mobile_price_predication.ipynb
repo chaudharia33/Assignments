{
 "cells": [
  {
   "cell_type": "code",
   "execution_count": 1,
   "id": "1cd9924c",
   "metadata": {},
   "outputs": [],
   "source": [
    "import pandas as pd\n",
    "import numpy as np\n",
    "from sklearn.linear_model import LogisticRegression\n",
    "from sklearn.metrics import classification_report\n",
    "from sklearn.model_selection import train_test_split\n",
    "from sklearn.ensemble import GradientBoostingClassifier"
   ]
  },
  {
   "cell_type": "code",
   "execution_count": 2,
   "id": "e63d9081",
   "metadata": {},
   "outputs": [
    {
     "data": {
      "text/html": [
       "<div>\n",
       "<style scoped>\n",
       "    .dataframe tbody tr th:only-of-type {\n",
       "        vertical-align: middle;\n",
       "    }\n",
       "\n",
       "    .dataframe tbody tr th {\n",
       "        vertical-align: top;\n",
       "    }\n",
       "\n",
       "    .dataframe thead th {\n",
       "        text-align: right;\n",
       "    }\n",
       "</style>\n",
       "<table border=\"1\" class=\"dataframe\">\n",
       "  <thead>\n",
       "    <tr style=\"text-align: right;\">\n",
       "      <th></th>\n",
       "      <th>battery_power</th>\n",
       "      <th>blue</th>\n",
       "      <th>clock_speed</th>\n",
       "      <th>dual_sim</th>\n",
       "      <th>fc</th>\n",
       "      <th>four_g</th>\n",
       "      <th>int_memory</th>\n",
       "      <th>m_dep</th>\n",
       "      <th>mobile_wt</th>\n",
       "      <th>n_cores</th>\n",
       "      <th>...</th>\n",
       "      <th>px_height</th>\n",
       "      <th>px_width</th>\n",
       "      <th>ram</th>\n",
       "      <th>sc_h</th>\n",
       "      <th>sc_w</th>\n",
       "      <th>talk_time</th>\n",
       "      <th>three_g</th>\n",
       "      <th>touch_screen</th>\n",
       "      <th>wifi</th>\n",
       "      <th>price_range</th>\n",
       "    </tr>\n",
       "  </thead>\n",
       "  <tbody>\n",
       "    <tr>\n",
       "      <th>0</th>\n",
       "      <td>1928</td>\n",
       "      <td>0</td>\n",
       "      <td>2.6</td>\n",
       "      <td>0</td>\n",
       "      <td>5</td>\n",
       "      <td>0</td>\n",
       "      <td>5</td>\n",
       "      <td>0.8</td>\n",
       "      <td>162</td>\n",
       "      <td>5</td>\n",
       "      <td>...</td>\n",
       "      <td>229</td>\n",
       "      <td>1004</td>\n",
       "      <td>696</td>\n",
       "      <td>14</td>\n",
       "      <td>12</td>\n",
       "      <td>15</td>\n",
       "      <td>1</td>\n",
       "      <td>1</td>\n",
       "      <td>1</td>\n",
       "      <td>0</td>\n",
       "    </tr>\n",
       "    <tr>\n",
       "      <th>1</th>\n",
       "      <td>1101</td>\n",
       "      <td>0</td>\n",
       "      <td>1.8</td>\n",
       "      <td>0</td>\n",
       "      <td>0</td>\n",
       "      <td>0</td>\n",
       "      <td>31</td>\n",
       "      <td>0.2</td>\n",
       "      <td>148</td>\n",
       "      <td>2</td>\n",
       "      <td>...</td>\n",
       "      <td>387</td>\n",
       "      <td>1269</td>\n",
       "      <td>2196</td>\n",
       "      <td>12</td>\n",
       "      <td>6</td>\n",
       "      <td>19</td>\n",
       "      <td>0</td>\n",
       "      <td>1</td>\n",
       "      <td>1</td>\n",
       "      <td>1</td>\n",
       "    </tr>\n",
       "    <tr>\n",
       "      <th>2</th>\n",
       "      <td>1975</td>\n",
       "      <td>1</td>\n",
       "      <td>1.9</td>\n",
       "      <td>1</td>\n",
       "      <td>2</td>\n",
       "      <td>0</td>\n",
       "      <td>31</td>\n",
       "      <td>0.9</td>\n",
       "      <td>151</td>\n",
       "      <td>1</td>\n",
       "      <td>...</td>\n",
       "      <td>775</td>\n",
       "      <td>1607</td>\n",
       "      <td>3022</td>\n",
       "      <td>13</td>\n",
       "      <td>5</td>\n",
       "      <td>19</td>\n",
       "      <td>0</td>\n",
       "      <td>0</td>\n",
       "      <td>1</td>\n",
       "      <td>3</td>\n",
       "    </tr>\n",
       "    <tr>\n",
       "      <th>3</th>\n",
       "      <td>742</td>\n",
       "      <td>1</td>\n",
       "      <td>2.3</td>\n",
       "      <td>0</td>\n",
       "      <td>0</td>\n",
       "      <td>0</td>\n",
       "      <td>21</td>\n",
       "      <td>0.7</td>\n",
       "      <td>104</td>\n",
       "      <td>8</td>\n",
       "      <td>...</td>\n",
       "      <td>875</td>\n",
       "      <td>925</td>\n",
       "      <td>331</td>\n",
       "      <td>11</td>\n",
       "      <td>8</td>\n",
       "      <td>7</td>\n",
       "      <td>1</td>\n",
       "      <td>0</td>\n",
       "      <td>0</td>\n",
       "      <td>0</td>\n",
       "    </tr>\n",
       "    <tr>\n",
       "      <th>4</th>\n",
       "      <td>1027</td>\n",
       "      <td>1</td>\n",
       "      <td>0.8</td>\n",
       "      <td>0</td>\n",
       "      <td>7</td>\n",
       "      <td>0</td>\n",
       "      <td>18</td>\n",
       "      <td>1.0</td>\n",
       "      <td>146</td>\n",
       "      <td>7</td>\n",
       "      <td>...</td>\n",
       "      <td>338</td>\n",
       "      <td>534</td>\n",
       "      <td>1234</td>\n",
       "      <td>7</td>\n",
       "      <td>4</td>\n",
       "      <td>14</td>\n",
       "      <td>1</td>\n",
       "      <td>0</td>\n",
       "      <td>1</td>\n",
       "      <td>0</td>\n",
       "    </tr>\n",
       "  </tbody>\n",
       "</table>\n",
       "<p>5 rows × 21 columns</p>\n",
       "</div>"
      ],
      "text/plain": [
       "   battery_power  blue  clock_speed  dual_sim  fc  four_g  int_memory  m_dep  \\\n",
       "0           1928     0          2.6         0   5       0           5    0.8   \n",
       "1           1101     0          1.8         0   0       0          31    0.2   \n",
       "2           1975     1          1.9         1   2       0          31    0.9   \n",
       "3            742     1          2.3         0   0       0          21    0.7   \n",
       "4           1027     1          0.8         0   7       0          18    1.0   \n",
       "\n",
       "   mobile_wt  n_cores  ...  px_height  px_width   ram  sc_h  sc_w  talk_time  \\\n",
       "0        162        5  ...        229      1004   696    14    12         15   \n",
       "1        148        2  ...        387      1269  2196    12     6         19   \n",
       "2        151        1  ...        775      1607  3022    13     5         19   \n",
       "3        104        8  ...        875       925   331    11     8          7   \n",
       "4        146        7  ...        338       534  1234     7     4         14   \n",
       "\n",
       "   three_g  touch_screen  wifi  price_range  \n",
       "0        1             1     1            0  \n",
       "1        0             1     1            1  \n",
       "2        0             0     1            3  \n",
       "3        1             0     0            0  \n",
       "4        1             0     1            0  \n",
       "\n",
       "[5 rows x 21 columns]"
      ]
     },
     "execution_count": 2,
     "metadata": {},
     "output_type": "execute_result"
    }
   ],
   "source": [
    "data=pd.read_csv(r\"C:\\Users\\Dell\\Downloads\\train_mob.csv\")\n",
    "data.head()"
   ]
  },
  {
   "cell_type": "code",
   "execution_count": 3,
   "id": "3cbadf3c",
   "metadata": {},
   "outputs": [
    {
     "name": "stdout",
     "output_type": "stream",
     "text": [
      "<class 'pandas.core.frame.DataFrame'>\n",
      "RangeIndex: 1600 entries, 0 to 1599\n",
      "Data columns (total 21 columns):\n",
      " #   Column         Non-Null Count  Dtype  \n",
      "---  ------         --------------  -----  \n",
      " 0   battery_power  1600 non-null   int64  \n",
      " 1   blue           1600 non-null   int64  \n",
      " 2   clock_speed    1600 non-null   float64\n",
      " 3   dual_sim       1600 non-null   int64  \n",
      " 4   fc             1600 non-null   int64  \n",
      " 5   four_g         1600 non-null   int64  \n",
      " 6   int_memory     1600 non-null   int64  \n",
      " 7   m_dep          1600 non-null   float64\n",
      " 8   mobile_wt      1600 non-null   int64  \n",
      " 9   n_cores        1600 non-null   int64  \n",
      " 10  pc             1600 non-null   int64  \n",
      " 11  px_height      1600 non-null   int64  \n",
      " 12  px_width       1600 non-null   int64  \n",
      " 13  ram            1600 non-null   int64  \n",
      " 14  sc_h           1600 non-null   int64  \n",
      " 15  sc_w           1600 non-null   int64  \n",
      " 16  talk_time      1600 non-null   int64  \n",
      " 17  three_g        1600 non-null   int64  \n",
      " 18  touch_screen   1600 non-null   int64  \n",
      " 19  wifi           1600 non-null   int64  \n",
      " 20  price_range    1600 non-null   int64  \n",
      "dtypes: float64(2), int64(19)\n",
      "memory usage: 262.6 KB\n"
     ]
    },
    {
     "data": {
      "text/plain": [
       "(1600, 21)"
      ]
     },
     "execution_count": 3,
     "metadata": {},
     "output_type": "execute_result"
    }
   ],
   "source": [
    "data.info()\n",
    "data.shape"
   ]
  },
  {
   "cell_type": "code",
   "execution_count": 4,
   "id": "d3b6f686",
   "metadata": {},
   "outputs": [
    {
     "data": {
      "text/plain": [
       "369     1\n",
       "458     0\n",
       "32      0\n",
       "556     1\n",
       "145     1\n",
       "       ..\n",
       "163     1\n",
       "607     1\n",
       "1568    0\n",
       "414     3\n",
       "971     1\n",
       "Name: price_range, Length: 1280, dtype: int64"
      ]
     },
     "execution_count": 4,
     "metadata": {},
     "output_type": "execute_result"
    }
   ],
   "source": [
    "x=data.drop([\"price_range\"], axis=1)\n",
    "y=data[\"price_range\"]\n",
    "x_train, x_test, y_train, y_test=train_test_split(x,y, train_size=0.80, random_state=45)\n",
    "y_train\n"
   ]
  },
  {
   "cell_type": "code",
   "execution_count": 5,
   "id": "a1ae2c45",
   "metadata": {},
   "outputs": [
    {
     "name": "stderr",
     "output_type": "stream",
     "text": [
      "C:\\Users\\Dell\\anaconda3\\lib\\site-packages\\sklearn\\linear_model\\_logistic.py:763: ConvergenceWarning: lbfgs failed to converge (status=1):\n",
      "STOP: TOTAL NO. of ITERATIONS REACHED LIMIT.\n",
      "\n",
      "Increase the number of iterations (max_iter) or scale the data as shown in:\n",
      "    https://scikit-learn.org/stable/modules/preprocessing.html\n",
      "Please also refer to the documentation for alternative solver options:\n",
      "    https://scikit-learn.org/stable/modules/linear_model.html#logistic-regression\n",
      "  n_iter_i = _check_optimize_result(\n"
     ]
    },
    {
     "data": {
      "text/plain": [
       "array([0, 0, 2, 2, 0, 1, 0, 3, 3, 0, 3, 1, 3, 1, 2, 0, 0, 2, 1, 2, 3, 3,\n",
       "       1, 0, 0, 3, 3, 0, 1, 2, 0, 1, 1, 2, 2, 2, 0, 3, 1, 1, 0, 2, 0, 1,\n",
       "       1, 3, 3, 3, 0, 2, 1, 3, 3, 2, 0, 3, 0, 2, 3, 1, 0, 2, 3, 3, 0, 0,\n",
       "       0, 0, 1, 2, 3, 0, 1, 1, 0, 0, 1, 0, 2, 1, 0, 3, 2, 1, 2, 1, 0, 3,\n",
       "       3, 0, 3, 2, 0, 1, 1, 3, 2, 0, 3, 0, 1, 1, 3, 3, 1, 1, 3, 3, 1, 1,\n",
       "       3, 2, 3, 1, 3, 3, 1, 1, 2, 0, 3, 0, 3, 1, 1, 0, 1, 0, 2, 2, 2, 0,\n",
       "       0, 0, 3, 2, 3, 0, 3, 0, 3, 2, 0, 1, 2, 2, 0, 1, 3, 0, 1, 1, 1, 2,\n",
       "       1, 3, 2, 3, 1, 3, 3, 3, 0, 3, 3, 3, 3, 1, 2, 3, 1, 2, 1, 3, 0, 0,\n",
       "       0, 1, 0, 3, 1, 3, 2, 0, 0, 2, 2, 3, 2, 3, 3, 3, 0, 3, 1, 0, 1, 2,\n",
       "       0, 0, 1, 1, 1, 2, 1, 0, 3, 0, 3, 1, 0, 2, 0, 3, 0, 2, 3, 2, 0, 2,\n",
       "       1, 2, 3, 0, 0, 3, 2, 3, 3, 0, 2, 3, 3, 3, 0, 3, 1, 3, 3, 0, 1, 2,\n",
       "       2, 1, 1, 3, 0, 0, 0, 0, 3, 1, 3, 1, 3, 0, 0, 2, 1, 0, 1, 3, 1, 1,\n",
       "       3, 3, 0, 1, 1, 2, 1, 1, 1, 3, 3, 0, 0, 0, 1, 3, 3, 3, 3, 1, 1, 3,\n",
       "       3, 2, 2, 1, 1, 2, 2, 0, 3, 0, 0, 3, 0, 0, 3, 1, 2, 3, 0, 1, 2, 1,\n",
       "       2, 2, 2, 3, 0, 2, 3, 0, 2, 0, 0, 3], dtype=int64)"
      ]
     },
     "execution_count": 5,
     "metadata": {},
     "output_type": "execute_result"
    }
   ],
   "source": [
    "model=LogisticRegression()\n",
    "model.fit(x_train,y_train)\n",
    "ypred=model.predict(x_test)\n",
    "ypred"
   ]
  },
  {
   "cell_type": "code",
   "execution_count": 6,
   "id": "79445eab",
   "metadata": {},
   "outputs": [
    {
     "data": {
      "text/plain": [
       "0.65390625"
      ]
     },
     "execution_count": 6,
     "metadata": {},
     "output_type": "execute_result"
    }
   ],
   "source": [
    "model.score(x_train, y_train)"
   ]
  },
  {
   "cell_type": "code",
   "execution_count": 7,
   "id": "e00af05b",
   "metadata": {},
   "outputs": [
    {
     "data": {
      "text/plain": [
       "0.6375"
      ]
     },
     "execution_count": 7,
     "metadata": {},
     "output_type": "execute_result"
    }
   ],
   "source": [
    "model.score(x_test, y_test)"
   ]
  },
  {
   "cell_type": "code",
   "execution_count": 10,
   "id": "6419d3cd",
   "metadata": {},
   "outputs": [
    {
     "name": "stdout",
     "output_type": "stream",
     "text": [
      "0.99921875\n",
      "0.8625\n"
     ]
    }
   ],
   "source": [
    "model_xg=GradientBoostingClassifier(n_estimators=50, max_depth=4)\n",
    "model_xg.fit(x_train,y_train)\n",
    "ypred=model_xg.predict(x_test)\n",
    "print(model_xg.score(x_train, y_train))\n",
    "print(model_xg.score(x_test, y_test))"
   ]
  },
  {
   "cell_type": "code",
   "execution_count": 9,
   "id": "328d9e80",
   "metadata": {},
   "outputs": [
    {
     "name": "stdout",
     "output_type": "stream",
     "text": [
      "0.98984375\n",
      "0.965625\n"
     ]
    }
   ],
   "source": [
    "from sklearn.svm import SVC\n",
    "model_svm = SVC(kernel='linear')\n",
    "model_svm.fit(x_train, y_train)\n",
    "ypred=model_svm.predict(x_test)\n",
    "print(model_svm.score(x_train, y_train))\n",
    "print(model_svm.score(x_test, y_test))"
   ]
  },
  {
   "cell_type": "code",
   "execution_count": null,
   "id": "af52ae27",
   "metadata": {},
   "outputs": [],
   "source": []
  }
 ],
 "metadata": {
  "kernelspec": {
   "display_name": "Python 3 (ipykernel)",
   "language": "python",
   "name": "python3"
  },
  "language_info": {
   "codemirror_mode": {
    "name": "ipython",
    "version": 3
   },
   "file_extension": ".py",
   "mimetype": "text/x-python",
   "name": "python",
   "nbconvert_exporter": "python",
   "pygments_lexer": "ipython3",
   "version": "3.9.7"
  }
 },
 "nbformat": 4,
 "nbformat_minor": 5
}
