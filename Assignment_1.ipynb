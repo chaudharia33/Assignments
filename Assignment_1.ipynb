{
 "cells": [
  {
   "cell_type": "markdown",
   "id": "de16f64e",
   "metadata": {},
   "source": [
    "1. In the below elements which of them are values or an expression? eg:- values can be\n",
    "integer or string and expressions will be mathematical operators.\n",
    "*........expressions (Multiplication operator)\n",
    "'hello'..values (String)\n",
    "-87.8....values (Float)\n",
    "-........expressions (Subtraction Operator)\n",
    "/........expressions (Division operator0)\n",
    "+........expressions (Addition Operator)\n",
    "6........values (Integer)"
   ]
  },
  {
   "cell_type": "markdown",
   "id": "e9ed1df2",
   "metadata": {},
   "source": [
    "2. What is the difference between string and variable?\n",
    "Answer: \n",
    "String: A string is a sequence of one or more characters like letters, numbers, symbols, that can be either a constant or a variable. Strings exist within either single quotes( ' ) or double quotes( \" ) in Python. For eg See belwo shell\n",
    "\n",
    "Variable: A variable is something that holds a value that may change. So variable can hold strings, intergers, floating points, complex number and Boolean as value."
   ]
  },
  {
   "cell_type": "code",
   "execution_count": 6,
   "id": "8afa08a8",
   "metadata": {},
   "outputs": [
    {
     "name": "stdout",
     "output_type": "stream",
     "text": [
      "This is string\n",
      "This is string\n",
      "This is string through varible\n",
      "2\n",
      "3.14\n",
      "(4+7j)\n",
      "False\n"
     ]
    }
   ],
   "source": [
    "#Example of string:\n",
    "\n",
    "print(\"This is string\")\n",
    "print('This is string')\n",
    "\n",
    "#Example of variable:\n",
    "a=\"This is string through varible\"\n",
    "b=2\n",
    "c=3.14\n",
    "d=4+7j\n",
    "e=4>5\n",
    "print(a)\n",
    "print(b)\n",
    "print(c)\n",
    "print(d)\n",
    "print(e)\n",
    "\n",
    "\n",
    "'''Output\n",
    "This is string\n",
    "This is string\n",
    "This is string through varible\n",
    "2\n",
    "3.14\n",
    "(4+7j)\n",
    "False\n",
    "'''"
   ]
  },
  {
   "cell_type": "markdown",
   "id": "d43d87f5",
   "metadata": {},
   "source": [
    "3. Describe three different data types.\n",
    "Answer:\n",
    "\n",
    "1 int(integer)-Interger values eg.15, 30, 100.  \n",
    "\n",
    "2 float- Floating values eg. 100.00, 123.456, 12.12.\n",
    "\n",
    "3 complex- Complex numbers eg. 4+4j, 16+73j\n",
    "\n",
    "4 str (string)- String value eg. akshay, python3.\n",
    "\n",
    "5 bool (Boolean)- boolean value eg. True, False. "
   ]
  },
  {
   "cell_type": "code",
   "execution_count": 7,
   "id": "30ae5cd7",
   "metadata": {},
   "outputs": [
    {
     "name": "stdout",
     "output_type": "stream",
     "text": [
      "1. Constant Expressions\n",
      "16.3\n",
      "2. Arithmetic Expressions\n",
      "155\n",
      "145\n",
      "750\n",
      "30.0\n",
      "30\n",
      "0\n",
      "75937500000\n",
      "3. Integral Expressions\n",
      "25\n",
      "4. Floating Expressions\n",
      "2.6\n",
      "5. Relational Expressions\n",
      "True\n",
      "6. Logical Expressions\n",
      "False\n",
      "True\n",
      "True\n",
      "7. Bitwise Expressions\n",
      "3 24\n",
      "8. Combinational Expressions\n",
      "22\n"
     ]
    }
   ],
   "source": [
    "# 4. What is an expression made up of? What do all expressions do?\n",
    "#Answer:\n",
    "'''\n",
    "1. Constant Expressions: These are the expressions that have constant values only.\n",
    "'''\n",
    "print('1. Constant Expressions')\n",
    "x = 15 + 1.3\n",
    "print(x)\n",
    "\n",
    "'''\n",
    "2. Arithmetic Expressions\n",
    "+\tAddition (a+b)\n",
    "–\tSubtraction (a-b)\n",
    "*\tMultiplication (a*b)\n",
    "/\tDivision (a/b)\n",
    "//\tQuotient (a//b)\n",
    "%\tRemainder (a%b)\n",
    "**\tExponentiation (a**b)\n",
    "'''\n",
    "print('2. Arithmetic Expressions')\n",
    "a=150\n",
    "b=5\n",
    "print(a+b)\n",
    "print(a-b)\n",
    "print(a*b)\n",
    "print(a/b)\n",
    "print(a//b)\n",
    "print(a%b)\n",
    "print(a**b)\n",
    "\n",
    "'''\n",
    "3. Integral Expressions\n",
    "These are the kind of expressions that produce only integer results after all computations and type conversions.\n",
    "'''\n",
    "print('3. Integral Expressions')\n",
    "a = 13\n",
    "b = 12.0\n",
    "c = a + int(b)\n",
    "print(c)\n",
    "\n",
    "'''\n",
    "4. Floating Expressions\n",
    "These are the kind of expressions which produce floating point numbers as result after all computations and type conversions.\n",
    "'''\n",
    "print('4. Floating Expressions')\n",
    "a = 13\n",
    "b = 5\n",
    "c = a / b\n",
    "print(c)\n",
    "\n",
    "'''\n",
    "5. Relational Expressions\n",
    "In these types of expressions, arithmetic expressions are written on both sides of relational operator (> , < , >= , <=). \n",
    "Those arithmetic expressions are evaluated first, and then compared as per relational operator and produce a \n",
    "boolean output in the end. \n",
    "These expressions are also called Boolean expressions.\n",
    "'''\n",
    "print('5. Relational Expressions')\n",
    "a = 21\n",
    "b = 13\n",
    "c = 40\n",
    "d = 37\n",
    "  \n",
    "p = (a + b) >= (c - d)\n",
    "print(p)\n",
    "\n",
    "'''\n",
    "6. Logical Expressions\n",
    "These are kinds of expressions that result in either True or False. \n",
    "It basically specifies one or more conditions. For example, (10 == 9) is a condition if 10 is equal to 9. \n",
    "As we know it is not correct, so it will return False. Studying logical expressions, \n",
    "we also come across some logical operators which can be seen in logical expressions most often. \n",
    "Here are some logical operators in Python:\n",
    "\n",
    "Operator\tSyntax\t    Functioning\n",
    "and\t        P and Q\t    It returns true if both P and Q are true otherwise returns false\n",
    "or\t        P or Q\t    It returns true if at least one of P and Q is true\n",
    "not\t        not P\t    It returns true if condition P is false\n",
    "'''\n",
    "print('6. Logical Expressions')\n",
    "P = (10 == 9)\n",
    "Q = (7 > 5)\n",
    "  \n",
    "R = P and Q\n",
    "S = P or Q\n",
    "T = not P\n",
    "  \n",
    "print(R)\n",
    "print(S)\n",
    "print(T)\n",
    "\n",
    "'''\n",
    "7. Bitwise Expressions: These are the kind of expressions in which computations are performed at bit level.\n",
    "'''\n",
    "print('7. Bitwise Expressions')\n",
    "a = 12\n",
    "  \n",
    "x = a >> 2\n",
    "y = a << 1\n",
    "  \n",
    "print(x, y)\n",
    "\n",
    "'''\n",
    "8. Combinational Expressions: We can also use different types of expressions in a single expression, \n",
    "and that will be termed as combinational expressions.\n",
    "'''\n",
    "print('8. Combinational Expressions')\n",
    "a = 16\n",
    "b = 12\n",
    "  \n",
    "c = a + (b >> 1)\n",
    "print(c)\n",
    "\n",
    "'''Output:\n",
    "1. Constant Expressions\n",
    "16.3\n",
    "2. Arithmetic Expressions\n",
    "155\n",
    "145\n",
    "750\n",
    "30.0\n",
    "30\n",
    "0\n",
    "75937500000\n",
    "3. Integral Expressions\n",
    "25\n",
    "4. Floating Expressions\n",
    "2.6\n",
    "5. Relational Expressions\n",
    "True\n",
    "6. Logical Expressions\n",
    "False\n",
    "True\n",
    "True\n",
    "7. Bitwise Expressions\n",
    "3 24\n",
    "8. Combinational Expressions\n",
    "22'''"
   ]
  },
  {
   "cell_type": "markdown",
   "id": "eef0de39",
   "metadata": {},
   "source": [
    "5.This assignment statements, like spam = 10. What is the difference between an\n",
    "expression and a statement?\n",
    "Answer:\n",
    "    Expression is made up of values, containers, and mathematical operators (operands) and the statement is just like a command that a python interpreter executes like print."
   ]
  },
  {
   "cell_type": "code",
   "execution_count": 5,
   "id": "616be1ca",
   "metadata": {},
   "outputs": [
    {
     "data": {
      "text/plain": [
       "23"
      ]
     },
     "execution_count": 5,
     "metadata": {},
     "output_type": "execute_result"
    }
   ],
   "source": [
    "'''\n",
    "6. After running the following code, what does the variable bacon contain?\n",
    "bacon = 22\n",
    "bacon + 1\n",
    "\n",
    "Answer: 23\n",
    "'''\n",
    "bacon = 22\n",
    "bacon + 1\n",
    "\n",
    "#Output:23"
   ]
  },
  {
   "cell_type": "code",
   "execution_count": 3,
   "id": "f7749d58",
   "metadata": {},
   "outputs": [
    {
     "name": "stdout",
     "output_type": "stream",
     "text": [
      "spamspamspam\n",
      "spamspamspam\n"
     ]
    }
   ],
   "source": [
    "'''\n",
    "7. What should the values of the following two terms be?\n",
    "\"spam\" + \"spamspam\"\n",
    "\"spam\" * 3\n",
    "\n",
    "Answer: Output will be same\n",
    "'''\n",
    "print(\"spam\" + \"spamspam\")\n",
    "print(\"spam\" * 3)\n",
    "\n",
    "\n",
    "#output:\n",
    "#spamspamspam\n",
    "#spamspamspam"
   ]
  },
  {
   "cell_type": "markdown",
   "id": "328c841f",
   "metadata": {},
   "source": [
    "8. Why is eggs a valid variable name while 100 is invalid?\n",
    "\n",
    "Answer:\n",
    "Because we can't start giving variable an integer name. \n",
    "if we, we should begin with, a string-like alphabet name then integer. \n",
    "Example: e100 or eggs100 are valid."
   ]
  },
  {
   "cell_type": "markdown",
   "id": "de9a50fe",
   "metadata": {},
   "source": [
    "9.What three functions can be used to get the integer, floating-point number, or string\n",
    "version of a value?\n",
    "Answer: \n",
    "    str(), int(), float()"
   ]
  },
  {
   "cell_type": "code",
   "execution_count": 1,
   "id": "22826ce0",
   "metadata": {},
   "outputs": [
    {
     "name": "stdout",
     "output_type": "stream",
     "text": [
      "I have eaten99burritos.\n"
     ]
    }
   ],
   "source": [
    "'''\n",
    "10. Why does this expression cause an error? How can you fix it?\n",
    "\"I have eaten\" + 99 +  \"burritos.\"\n",
    "Answer:\n",
    "    Because 99 is an integer it cannot be concatenated with strings, \n",
    "    if we have to concatenate it we need to do typecasting as below:\n",
    "    '''\n",
    "print(\"I have eaten\" + \"99\" +  \"burritos.\")\n",
    "\n",
    "#Output: I have eaten99burritos."
   ]
  }
 ],
 "metadata": {
  "kernelspec": {
   "display_name": "Python 3",
   "language": "python",
   "name": "python3"
  },
  "language_info": {
   "codemirror_mode": {
    "name": "ipython",
    "version": 3
   },
   "file_extension": ".py",
   "mimetype": "text/x-python",
   "name": "python",
   "nbconvert_exporter": "python",
   "pygments_lexer": "ipython3",
   "version": "3.6.15"
  }
 },
 "nbformat": 4,
 "nbformat_minor": 5
}
