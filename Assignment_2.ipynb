{
 "cells": [
  {
   "cell_type": "markdown",
   "id": "d5a3ea83",
   "metadata": {},
   "source": [
    "1.What are the two values of the Boolean data type? How do you write them?\n",
    "\n",
    "Answer: True and false are two values of boolean data type and they are written as \"True\" and \"False\"."
   ]
  },
  {
   "cell_type": "code",
   "execution_count": 19,
   "id": "a73c72db",
   "metadata": {},
   "outputs": [
    {
     "name": "stdout",
     "output_type": "stream",
     "text": [
      "Value of a is 50 and value of b is 25\n",
      "and boolean operator\n",
      "Result for a>40 and b>40 is False\n",
      "Result for a>100 and b<50 is False\n",
      "Result for a==0 and b==0 is False\n",
      "Result for a>0 and b>0 is True\n",
      "or boolean operator\n",
      "Result for a>40 or b>400 is True\n",
      "Result for a>100 or b<50 is True\n",
      "Result for a==0 or b==0 is False\n",
      "Result for a>0 or b>0 is True\n",
      "not boolean operator\n",
      "Result for b>a is False\n",
      "Result not(b>a) is True\n"
     ]
    }
   ],
   "source": [
    "'''\n",
    "2. What are the three different types of Boolean operators?\n",
    "\n",
    "Answer: Three type of Boolean operator are 1. and 2. or 3. not\n",
    "    \n",
    "1. and:\n",
    "Boolean and operator returns true if both operands return true.\n",
    "eg.\n",
    "'''\n",
    "a=50\n",
    "b=25\n",
    "print(\"Value of a is\", a,\"and value of b is\", b)\n",
    "print(\"and boolean operator\")\n",
    "c=a>40 and b>40\n",
    "print(\"Result for a>40 and b>40 is\", c)\n",
    "c=a>100 and b<50\n",
    "print(\"Result for a>100 and b<50 is\", c)\n",
    "c=a==0 and b==0\n",
    "print(\"Result for a==0 and b==0 is\", c)\n",
    "c=a>0 and b>0\n",
    "print(\"Result for a>0 and b>0 is\", c)\n",
    "\n",
    "'''\n",
    "2. or\n",
    "Boolean or operator returns true if any one operand is true\n",
    "'''\n",
    "print(\"or boolean operator\")\n",
    "c=a>40 or b>40\n",
    "print(\"Result for a>40 or b>400 is\",c)\n",
    "c=a>100 or b<50\n",
    "print(\"Result for a>100 or b<50 is\",c)\n",
    "c=a==0 or b==0\n",
    "print(\"Result for a==0 or b==0 is\", c)\n",
    "c=a>0 or b>0\n",
    "print(\"Result for a>0 or b>0 is\",c)\n",
    "\n",
    "'''\n",
    "3. not\n",
    "The not operator returns true if its operand is a false expression and returns false if it is true.\n",
    "'''\n",
    "print(\"not boolean operator\")\n",
    "c=b>a\n",
    "print(\"Result for b>a is\",c)\n",
    "c= not(b>a)\n",
    "print(\"Result not(b>a) is\",c)"
   ]
  },
  {
   "cell_type": "markdown",
   "id": "3550b41d",
   "metadata": {},
   "source": [
    "3. Make a list of each Boolean operators truth tables (i.e. every possible combination of Boolean values for the operator and what it evaluate ).\n",
    "\n",
    "Answer:\n",
    "    \n",
    "And Operator\n",
    "Input1 Input2 Result\n",
    " True   True   True\n",
    " True   False  False \n",
    " False  True   False\n",
    " False  False  False \n",
    " \n",
    "or Operator\n",
    "Input1 Input2 Result\n",
    " True   True   True\n",
    " True   False  True \n",
    " False  True   True\n",
    " False  False  False \n",
    " \n",
    "not Operator\n",
    "Input Result\n",
    " True  False\n",
    " False True"
   ]
  },
  {
   "cell_type": "code",
   "execution_count": 20,
   "id": "bee4c381",
   "metadata": {},
   "outputs": [
    {
     "name": "stdout",
     "output_type": "stream",
     "text": [
      "False\n",
      "False\n",
      "True\n",
      "False\n",
      "False\n",
      "True\n"
     ]
    }
   ],
   "source": [
    "'''\n",
    "4. What are the values of the following expressions?\n",
    "(5 > 4) and (3 == 5)-----------------False\n",
    "not (5 > 4)--------------------------False\n",
    "(5 > 4) or (3 == 5)------------------True\n",
    "not ((5 > 4) or (3 == 5))------------False\n",
    "(True and True) and (True == False)--False\n",
    "(not False) or (not True)------------True\n",
    "'''\n",
    "print((5 > 4) and (3 == 5))\n",
    "print(not (5 > 4))\n",
    "print((5 > 4) or (3 == 5))\n",
    "print(not ((5 > 4) or (3 == 5)))\n",
    "print((True and True) and (True == False))\n",
    "print((not False) or (not True))"
   ]
  },
  {
   "cell_type": "markdown",
   "id": "1a11f3d5",
   "metadata": {},
   "source": [
    "5.What are the six comparison operators?\n",
    "\n",
    "Answer:\n",
    "    1. < - Less than\n",
    "    2. > - Gretaer than\n",
    "    3. <= - Less than eqaul to\n",
    "    4. >= - Greater than equal to\n",
    "    5. == - equals to\n",
    "    6. != - not equal to\n",
    "    "
   ]
  },
  {
   "cell_type": "markdown",
   "id": "6dc5d2f5",
   "metadata": {},
   "source": [
    "6. How do you tell the difference between the equal to and assignment operators?Describe a condition and when you would use one.\n",
    "\n",
    "Answer:\n",
    "    equal to (=) is used to assign the value to variable and for comparision we use assignment operator  i.e (==)\n",
    "    Eg. \n",
    "    a=10    In this we have to assign 10 value to the varibal a so used equalt to (=)\n",
    "    10==10  In this we are tring to compare the righhand side value with lefth hand side value so we have used assignment operator (==)"
   ]
  },
  {
   "cell_type": "code",
   "execution_count": 21,
   "id": "b490f8b4",
   "metadata": {},
   "outputs": [
    {
     "name": "stdout",
     "output_type": "stream",
     "text": [
      "spam\n",
      "spam\n"
     ]
    }
   ],
   "source": [
    "#7. Identify the three blocks in this code:\n",
    "spam = 0\n",
    "if spam == 10:\n",
    "    print('eggs')\n",
    "    if spam > 5:\n",
    "        print('bacon')\n",
    "    else:\n",
    "        print('ham')\n",
    "    print('spam')\n",
    "print('spam')\n",
    "\n",
    "#Answer:\n",
    "spam = 0\n",
    "if spam == 10:\n",
    "    print('eggs')        # block 1\n",
    "    if spam > 5:         # block 1\n",
    "        print('bacon')   # block 1, block 2 inside block 1\n",
    "    else:                # block 1, block 2 ended\n",
    "        print('ham')     # block 1, block 3 inside block 1\n",
    "    print('spam')        # block 1, block 3 ended\n",
    "print('spam')            # block 1 ended"
   ]
  },
  {
   "cell_type": "code",
   "execution_count": 22,
   "id": "e712c749",
   "metadata": {},
   "outputs": [
    {
     "name": "stdout",
     "output_type": "stream",
     "text": [
      "entre spam value2\n",
      "Howdy\n"
     ]
    }
   ],
   "source": [
    "# 8. Write code that prints Hello if 1 is stored in spam, prints Howdy if 2 is stored in spam, and prints Greetings! if anything else is stored in spam.\n",
    "\n",
    "spam = int(input(\"entre spam value\"))\n",
    "if spam == 1:\n",
    "    print('Hello')\n",
    "elif spam == 2:\n",
    "    print('Howdy')\n",
    "else:\n",
    "    print('Greetings!')"
   ]
  },
  {
   "cell_type": "markdown",
   "id": "4e685179",
   "metadata": {},
   "source": [
    "9.If your programme is stuck in an endless loop, what keys you’ll press?\n",
    "\n",
    "Answer= Ctrl + C ."
   ]
  },
  {
   "cell_type": "markdown",
   "id": "1078bf75",
   "metadata": {},
   "source": [
    "10. How can you tell the difference between break and continue?\n",
    "The break statement will move the execution outside and just after a loop. The continue statement will move the execution to the start of the loop."
   ]
  },
  {
   "cell_type": "code",
   "execution_count": 23,
   "id": "a026322c",
   "metadata": {},
   "outputs": [
    {
     "name": "stdout",
     "output_type": "stream",
     "text": [
      "for range(10)\n",
      "0\n",
      "1\n",
      "2\n",
      "3\n",
      "4\n",
      "5\n",
      "6\n",
      "7\n",
      "8\n",
      "9\n",
      "for range(0,10)\n",
      "0\n",
      "1\n",
      "2\n",
      "3\n",
      "4\n",
      "5\n",
      "6\n",
      "7\n",
      "8\n",
      "9\n",
      "for range(0,10,1)\n",
      "0\n",
      "1\n",
      "2\n",
      "3\n",
      "4\n",
      "5\n",
      "6\n",
      "7\n",
      "8\n",
      "9\n"
     ]
    }
   ],
   "source": [
    "#11. In a for loop, what is the difference between range(10), range(0, 10), and range(0, 10, 1)?\n",
    "\n",
    "#Answer: there will be no difference in output. As shown below\n",
    "print(\"for range(10)\")\n",
    "for n in range(10):\n",
    "    print(n)\n",
    "print(\"for range(0,10)\")\n",
    "for n in range(0, 10):\n",
    "    print(n)\n",
    "print(\"for range(0,10,1)\")\n",
    "for n in range(0, 10,1):\n",
    "    print(n)"
   ]
  },
  {
   "cell_type": "code",
   "execution_count": 24,
   "id": "18291002",
   "metadata": {},
   "outputs": [
    {
     "name": "stdout",
     "output_type": "stream",
     "text": [
      "using for loop\n",
      "1\n",
      "2\n",
      "3\n",
      "4\n",
      "5\n",
      "6\n",
      "7\n",
      "8\n",
      "9\n",
      "10\n",
      "using while loop\n",
      "1\n",
      "2\n",
      "3\n",
      "4\n",
      "5\n",
      "6\n",
      "7\n",
      "8\n",
      "9\n",
      "10\n"
     ]
    }
   ],
   "source": [
    "#12. Write a short program that prints the numbers 1 to 10 using a for loop. Then write an equivalent\n",
    "#program that prints the numbers 1 to 10 using a while loop.\n",
    "print(\"using for loop\")\n",
    "for n in range(1, 11):\n",
    "    print(n)\n",
    "print(\"using while loop\")\n",
    "n = 1\n",
    "while(n<=10):\n",
    "    print(n)\n",
    "    n += 1"
   ]
  },
  {
   "cell_type": "markdown",
   "id": "bf0044c3",
   "metadata": {},
   "source": [
    "13. If you had a function named bacon() inside a module named spam, how would you call it after importing spam?\n",
    "This function can be called with spam.bacon()."
   ]
  }
 ],
 "metadata": {
  "kernelspec": {
   "display_name": "Python 3",
   "language": "python",
   "name": "python3"
  },
  "language_info": {
   "codemirror_mode": {
    "name": "ipython",
    "version": 3
   },
   "file_extension": ".py",
   "mimetype": "text/x-python",
   "name": "python",
   "nbconvert_exporter": "python",
   "pygments_lexer": "ipython3",
   "version": "3.6.15"
  }
 },
 "nbformat": 4,
 "nbformat_minor": 5
}
